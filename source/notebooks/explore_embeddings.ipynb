{
 "cells": [
  {
   "cell_type": "markdown",
   "metadata": {},
   "source": [
    "# Build Embeddings. "
   ]
  },
  {
   "cell_type": "code",
   "execution_count": 1,
   "metadata": {},
   "outputs": [
    {
     "name": "stdout",
     "output_type": "stream",
     "text": [
      "/Users/lioneltay/Dropbox/Courses/michigan_mads/SIADS_694_695_milestone_2_Eric_Gilbert/submission/MADS-M2-estimating-news-impact-on-financial-market\n"
     ]
    }
   ],
   "source": [
    "# Python module. \n",
    "import re, os \n",
    "import pandas as pd \n",
    "from gensim.models import FastText \n",
    "\n",
    "# Change the current directory from (./notebook) to root directory. \n",
    "if not re.match(r\".+/MADS-M2-estimating-news-impact-on-financial-market$\", os.getcwd()): \n",
    "\tos.chdir(\"../..\") \n",
    "\n",
    "# For clearing safe warnings. Not important. \n",
    "from IPython.display import clear_output\n",
    "\n",
    "# Custom config. \n",
    "from source.config_py.config import DIR_DATASET, DIR_MLTOPIC, PARAM_SEED \n",
    "\n",
    "# Custom modules. \n",
    "from source.modules.manage_files import ManageFiles \n",
    "from source.modules.processor_topic import get_token_variation, replace_references \n",
    "\n",
    "# Preview. \n",
    "print(os.getcwd()) "
   ]
  },
  {
   "cell_type": "markdown",
   "metadata": {},
   "source": [
    "## Configurations (general). "
   ]
  },
  {
   "cell_type": "code",
   "execution_count": 2,
   "metadata": {},
   "outputs": [],
   "source": [
    "# Pandas DF config. \n",
    "pd.set_option(\"display.max_rows\", 50, \"display.max_columns\", 50, \"display.max_colwidth\", 200)\n",
    "\n",
    "# File management setup. \n",
    "manage_files = ManageFiles() \n",
    "\n",
    "# For clearing the output. Not important. \n",
    "clear_output()"
   ]
  },
  {
   "cell_type": "markdown",
   "metadata": {},
   "source": [
    "## Load & consolidate dataset. "
   ]
  },
  {
   "cell_type": "code",
   "execution_count": 3,
   "metadata": {},
   "outputs": [
    {
     "name": "stdout",
     "output_type": "stream",
     "text": [
      "Read from (cnn_news_business.parquet)\n"
     ]
    },
    {
     "data": {
      "text/html": [
       "<div>\n",
       "<style scoped>\n",
       "    .dataframe tbody tr th:only-of-type {\n",
       "        vertical-align: middle;\n",
       "    }\n",
       "\n",
       "    .dataframe tbody tr th {\n",
       "        vertical-align: top;\n",
       "    }\n",
       "\n",
       "    .dataframe thead th {\n",
       "        text-align: right;\n",
       "    }\n",
       "</style>\n",
       "<table border=\"1\" class=\"dataframe\">\n",
       "  <thead>\n",
       "    <tr style=\"text-align: right;\">\n",
       "      <th></th>\n",
       "      <th>date</th>\n",
       "      <th>category</th>\n",
       "      <th>section</th>\n",
       "      <th>headline</th>\n",
       "      <th>second_headline</th>\n",
       "      <th>description</th>\n",
       "      <th>article_text</th>\n",
       "      <th>entities</th>\n",
       "    </tr>\n",
       "    <tr>\n",
       "      <th>headline_id</th>\n",
       "      <th></th>\n",
       "      <th></th>\n",
       "      <th></th>\n",
       "      <th></th>\n",
       "      <th></th>\n",
       "      <th></th>\n",
       "      <th></th>\n",
       "      <th></th>\n",
       "    </tr>\n",
       "  </thead>\n",
       "  <tbody>\n",
       "    <tr>\n",
       "      <th>3</th>\n",
       "      <td>2022-03-18</td>\n",
       "      <td>business</td>\n",
       "      <td>success</td>\n",
       "      <td>Two years later, remote work has changed millions of careers - CNN</td>\n",
       "      <td>Two years later, remote work has changed millions of careers</td>\n",
       "      <td>Here's a look at how the pandemic reshaped people's careers in ways they never expected.</td>\n",
       "      <td>The pandemic thrust the working world into a new reality in March 2020 as offices closed and millions of people were forced to learn how to do their jobs from home.Two years later, employers and w...</td>\n",
       "      <td>{'characters': [[[ 0 11], [ 4 11], [922 933], [926 933], [1242 1253], [1246 1253], [1644 1655], [1648 1655], [1739 1750], [1743 1750], [2802 2813], [2806 2813], [2929 2940], [2933 2940], [6377 638...</td>\n",
       "    </tr>\n",
       "    <tr>\n",
       "      <th>4</th>\n",
       "      <td>2022-03-19</td>\n",
       "      <td>business</td>\n",
       "      <td>investing</td>\n",
       "      <td>Why March is so volatile for stocks - CNN</td>\n",
       "      <td>Why March is so volatile for stocks</td>\n",
       "      <td>March Madness isn't just for college basketball fans. That phrase is also an apt description of the volatility on Wall Street, and this March is no different.</td>\n",
       "      <td>New York (CNN Business)March Madness isn't just for college basketball fans. That phrase is also an apt description of the volatility on Wall Street, and this March is no different.Just look at wh...</td>\n",
       "      <td>{'characters': [[[0 7]], [[10 12]], [[10 21]], [[14 21]], [[52 58], [52 69]], [[60 69]], [[137 147]], [[199 204], [968 973], [1138 1143], [1379 1384], [1707 1712], [1837 1841], [2038 2043], [2527 ...</td>\n",
       "    </tr>\n",
       "    <tr>\n",
       "      <th>5</th>\n",
       "      <td>2022-03-20</td>\n",
       "      <td>business</td>\n",
       "      <td>investing</td>\n",
       "      <td>Stocks week ahead: Big Oil rakes in billions as prices soar. Lawmakers want them to pay us back - CNN</td>\n",
       "      <td>Big Oil rakes in billions as prices soar. Lawmakers want them to pay us back</td>\n",
       "      <td>As crude prices surge, oil companies are raking in money -- enormous profits gained from practically no extra investment.</td>\n",
       "      <td>A version of this story first appeared in CNN Business' Before the Bell newsletter. Not a subscriber? You can sign up right here. New York (CNN Business)As crude prices surge, oil companies are ra...</td>\n",
       "      <td>{'characters': [[[42 44], [140 142], [6077 6079], [6077 6080], [6386 6390]], [[42 53], [140 151]], [[46 53], [144 151]], [[118 122]], [[130 137]], [[156 160], [176 178], [361 363], [658 660], [143...</td>\n",
       "    </tr>\n",
       "    <tr>\n",
       "      <th>6</th>\n",
       "      <td>2022-03-18</td>\n",
       "      <td>business</td>\n",
       "      <td>energy</td>\n",
       "      <td>Oil 'emergency': Work from home and drive slower, IEA says - CNN</td>\n",
       "      <td>Oil 'emergency': Work from home and drive slower, IEA says</td>\n",
       "      <td>Governments around the world must consider drastic steps to slash oil demand in the face of an emerging global energy crisis caused by Russia's invasion of Ukraine, the International Energy Agency...</td>\n",
       "      <td>New York (CNN Business)Governments around the world must consider drastic steps to slash oil demand in the face of an emerging global energy crisis caused by Russia's invasion of Ukraine, the Inte...</td>\n",
       "      <td>{'characters': [[[0 7]], [[10 12]], [[10 21]], [[14 21], [790 797], [2255 2258]], [[23 33]], [[89 91], [611 613], [611 624], [982 984], [1059 1061], [1560 1562], [1797 1799], [1841 1843], [1948 19...</td>\n",
       "    </tr>\n",
       "    <tr>\n",
       "      <th>7</th>\n",
       "      <td>2022-03-20</td>\n",
       "      <td>business</td>\n",
       "      <td>perspectives</td>\n",
       "      <td>Opinion: Technology is transforming the nature of money. Here's how it will affect our lives - CNN</td>\n",
       "      <td>Technology is transforming the nature of money. Here's how it will affect our lives</td>\n",
       "      <td>The convenience of digital payments to both consumers and businesses makes it highly unlikely that cash will survive much longer.</td>\n",
       "      <td>This interview has been edited from its original version. It was originally published in its entirety in the International Monetary Fund's Spring 2022 issue of Finance &amp; Development magazine. Eswa...</td>\n",
       "      <td>{'characters': [[[105 137], [109 137], [728 758], [732 758], [830 832]], [[123 130], [425 429], [588 596], [746 753], [2114 2122], [5820 5828], [6959 6967], [7166 7174]], [[160 166], [490 496], [5...</td>\n",
       "    </tr>\n",
       "    <tr>\n",
       "      <th>...</th>\n",
       "      <td>...</td>\n",
       "      <td>...</td>\n",
       "      <td>...</td>\n",
       "      <td>...</td>\n",
       "      <td>...</td>\n",
       "      <td>...</td>\n",
       "      <td>...</td>\n",
       "      <td>...</td>\n",
       "    </tr>\n",
       "    <tr>\n",
       "      <th>10407</th>\n",
       "      <td>2022-01-13</td>\n",
       "      <td>business</td>\n",
       "      <td>business</td>\n",
       "      <td>Nation's top trade groups hail SCOTUS ruling after filing emergency appeals against Biden's vaccine mandate - CNN</td>\n",
       "      <td>Nation's top trade groups hail SCOTUS ruling after filing emergency appeals against Biden's vaccine mandate</td>\n",
       "      <td>The nation's largest industry trade groups are calling the US Supreme Court's decision to block US President Joe Biden's vaccine or testing requirement for businesses a victory for employers.</td>\n",
       "      <td>(CNN Business)The nation's largest industry trade groups are calling the US Supreme Court's decision to block US President Joe Biden's vaccine or testing requirement for businesses a victory for ...</td>\n",
       "      <td>{'characters': [[[2 4]], [[ 2 13]], [[ 6 13], [171 180], [418 427], [1859 1868], [2382 2389], [2691 2700], [2714 2723], [2778 2785], [2860 2867], [3059 3066], [3449 3456], [3634 3642], [3696 3704]...</td>\n",
       "    </tr>\n",
       "    <tr>\n",
       "      <th>10408</th>\n",
       "      <td>2022-01-04</td>\n",
       "      <td>business</td>\n",
       "      <td>business</td>\n",
       "      <td>Port of Los Angeles traffic sets record - CNN</td>\n",
       "      <td>Port of Los Angeles traffic sets record in 2021</td>\n",
       "      <td>A record-setting 10.7 million 20-foot containers passed through the Port of Los Angeles in 2021, up 13% from the previous record set in 2018.</td>\n",
       "      <td>(CNN)A record-setting 10.7 million 20-foot containers passed through the Port of Los Angeles in 2021, up 13% from the previous record set in 2018.And that pace is set to continue, according to Ge...</td>\n",
       "      <td>{'characters': [[[2 4]], [[74 77], [233 236], [393 396], [603 606], [730 734], [800 804], [901 904], [966 969], [1133 1137], [1232 1235], [1284 1289], [1291 1294], [1392 1395], [2144 2148], [2416 ...</td>\n",
       "    </tr>\n",
       "    <tr>\n",
       "      <th>10409</th>\n",
       "      <td>2021-12-06</td>\n",
       "      <td>business</td>\n",
       "      <td>business</td>\n",
       "      <td>Ford delays return to office for 30,000 workers because of Covid concerns - CNN</td>\n",
       "      <td>Ford delays return to office for 30,000 workers because of Covid concerns</td>\n",
       "      <td>Ford Motor Co. is pushing its return-to-office date to March over concerns over new Covid-19 concerns, the company said Monday.</td>\n",
       "      <td>New York (CNN Business)Ford Motor Co. is pushing its return-to-office date to March over concerns over new Covid-19 concerns, the company said Monday. Assembly line workers returned to work in May...</td>\n",
       "      <td>{'characters': [[[0 7]], [[10 12]], [[10 21]], [[14 21]], [[23 26], [23 32], [23 35], [23 36], [874 877]], [[107 114], [414 421], [423 427]], [[253 264], [257 264]], [[130 136]], [[151 163]], [[21...</td>\n",
       "    </tr>\n",
       "    <tr>\n",
       "      <th>10410</th>\n",
       "      <td>2021-11-18</td>\n",
       "      <td>business</td>\n",
       "      <td>economy</td>\n",
       "      <td>Thanksgiving dinner will cost Americans 14% more this year, survey finds - CNN</td>\n",
       "      <td>Thanksgiving dinner will cost Americans 14% more this year, survey finds</td>\n",
       "      <td>Thanksgiving dinner will cost 14% more this year, according to new survey by the American Farm Bureau Federation. Dinner for a family of 10 will cost on average $53.31 — up $6.41 from last year's ...</td>\n",
       "      <td>New York (CNN Business)Thanksgiving dinner will cost 14% more this year, according to new survey by the American Farm Bureau Federation. Dinner for a family of 10 will cost on average $53.31 — up ...</td>\n",
       "      <td>{'characters': [[[0 7]], [[10 12], [2112 2114]], [[10 21]], [[14 21]], [[23 34], [1520 1531], [2321 2332], [2447 2458], [2889 2900]], [[104 111], [184 184], [196 196], [230 230], [358 366], [464 4...</td>\n",
       "    </tr>\n",
       "    <tr>\n",
       "      <th>10415</th>\n",
       "      <td>2014-05-22</td>\n",
       "      <td>business</td>\n",
       "      <td>tech</td>\n",
       "      <td>How to shoot amazing video from drones - CNN</td>\n",
       "      <td>How to shoot amazing video from drones</td>\n",
       "      <td>\"It is the closest thing to flying like a bird,\" said Ostermann, a drone photography hobbyist. Here's how you can make breathtaking aerial videos too.</td>\n",
       "      <td>Story highlightsHobbyists are using small drones to shoot aerial photographyWith a few hundred dollars and practice, you can make breathtaking aerial videosKeep drones and other model aircraft les...</td>\n",
       "      <td>{'characters': [[[42 47], [161 166], [254 258], [593 597], [605 612], [605 627], [633 635], [1150 1153], [1467 1472], [1696 1700], [1726 1728], [1818 1823], [2174 2179], [2383 2387], [2439 2444], ...</td>\n",
       "    </tr>\n",
       "  </tbody>\n",
       "</table>\n",
       "<p>854 rows × 8 columns</p>\n",
       "</div>"
      ],
      "text/plain": [
       "                  date  category       section  \\\n",
       "headline_id                                      \n",
       "3           2022-03-18  business       success   \n",
       "4           2022-03-19  business     investing   \n",
       "5           2022-03-20  business     investing   \n",
       "6           2022-03-18  business        energy   \n",
       "7           2022-03-20  business  perspectives   \n",
       "...                ...       ...           ...   \n",
       "10407       2022-01-13  business      business   \n",
       "10408       2022-01-04  business      business   \n",
       "10409       2021-12-06  business      business   \n",
       "10410       2021-11-18  business       economy   \n",
       "10415       2014-05-22  business          tech   \n",
       "\n",
       "                                                                                                                      headline  \\\n",
       "headline_id                                                                                                                      \n",
       "3                                                           Two years later, remote work has changed millions of careers - CNN   \n",
       "4                                                                                    Why March is so volatile for stocks - CNN   \n",
       "5                        Stocks week ahead: Big Oil rakes in billions as prices soar. Lawmakers want them to pay us back - CNN   \n",
       "6                                                             Oil 'emergency': Work from home and drive slower, IEA says - CNN   \n",
       "7                           Opinion: Technology is transforming the nature of money. Here's how it will affect our lives - CNN   \n",
       "...                                                                                                                        ...   \n",
       "10407        Nation's top trade groups hail SCOTUS ruling after filing emergency appeals against Biden's vaccine mandate - CNN   \n",
       "10408                                                                            Port of Los Angeles traffic sets record - CNN   \n",
       "10409                                          Ford delays return to office for 30,000 workers because of Covid concerns - CNN   \n",
       "10410                                           Thanksgiving dinner will cost Americans 14% more this year, survey finds - CNN   \n",
       "10415                                                                             How to shoot amazing video from drones - CNN   \n",
       "\n",
       "                                                                                                         second_headline  \\\n",
       "headline_id                                                                                                                \n",
       "3                                                           Two years later, remote work has changed millions of careers   \n",
       "4                                                                                    Why March is so volatile for stocks   \n",
       "5                                           Big Oil rakes in billions as prices soar. Lawmakers want them to pay us back   \n",
       "6                                                             Oil 'emergency': Work from home and drive slower, IEA says   \n",
       "7                                    Technology is transforming the nature of money. Here's how it will affect our lives   \n",
       "...                                                                                                                  ...   \n",
       "10407        Nation's top trade groups hail SCOTUS ruling after filing emergency appeals against Biden's vaccine mandate   \n",
       "10408                                                                    Port of Los Angeles traffic sets record in 2021   \n",
       "10409                                          Ford delays return to office for 30,000 workers because of Covid concerns   \n",
       "10410                                           Thanksgiving dinner will cost Americans 14% more this year, survey finds   \n",
       "10415                                                                             How to shoot amazing video from drones   \n",
       "\n",
       "                                                                                                                                                                                                         description  \\\n",
       "headline_id                                                                                                                                                                                                            \n",
       "3                                                                                                                           Here's a look at how the pandemic reshaped people's careers in ways they never expected.   \n",
       "4                                                     March Madness isn't just for college basketball fans. That phrase is also an apt description of the volatility on Wall Street, and this March is no different.   \n",
       "5                                                                                          As crude prices surge, oil companies are raking in money -- enormous profits gained from practically no extra investment.   \n",
       "6            Governments around the world must consider drastic steps to slash oil demand in the face of an emerging global energy crisis caused by Russia's invasion of Ukraine, the International Energy Agency...   \n",
       "7                                                                                 The convenience of digital payments to both consumers and businesses makes it highly unlikely that cash will survive much longer.    \n",
       "...                                                                                                                                                                                                              ...   \n",
       "10407                The nation's largest industry trade groups are calling the US Supreme Court's decision to block US President Joe Biden's vaccine or testing requirement for businesses a victory for employers.   \n",
       "10408                                                                  A record-setting 10.7 million 20-foot containers passed through the Port of Los Angeles in 2021, up 13% from the previous record set in 2018.   \n",
       "10409                                                                               Ford Motor Co. is pushing its return-to-office date to March over concerns over new Covid-19 concerns, the company said Monday.    \n",
       "10410        Thanksgiving dinner will cost 14% more this year, according to new survey by the American Farm Bureau Federation. Dinner for a family of 10 will cost on average $53.31 — up $6.41 from last year's ...   \n",
       "10415                                                         \"It is the closest thing to flying like a bird,\" said Ostermann, a drone photography hobbyist. Here's how you can make breathtaking aerial videos too.   \n",
       "\n",
       "                                                                                                                                                                                                        article_text  \\\n",
       "headline_id                                                                                                                                                                                                            \n",
       "3            The pandemic thrust the working world into a new reality in March 2020 as offices closed and millions of people were forced to learn how to do their jobs from home.Two years later, employers and w...   \n",
       "4            New York (CNN Business)March Madness isn't just for college basketball fans. That phrase is also an apt description of the volatility on Wall Street, and this March is no different.Just look at wh...   \n",
       "5            A version of this story first appeared in CNN Business' Before the Bell newsletter. Not a subscriber? You can sign up right here. New York (CNN Business)As crude prices surge, oil companies are ra...   \n",
       "6            New York (CNN Business)Governments around the world must consider drastic steps to slash oil demand in the face of an emerging global energy crisis caused by Russia's invasion of Ukraine, the Inte...   \n",
       "7            This interview has been edited from its original version. It was originally published in its entirety in the International Monetary Fund's Spring 2022 issue of Finance & Development magazine. Eswa...   \n",
       "...                                                                                                                                                                                                              ...   \n",
       "10407         (CNN Business)The nation's largest industry trade groups are calling the US Supreme Court's decision to block US President Joe Biden's vaccine or testing requirement for businesses a victory for ...   \n",
       "10408         (CNN)A record-setting 10.7 million 20-foot containers passed through the Port of Los Angeles in 2021, up 13% from the previous record set in 2018.And that pace is set to continue, according to Ge...   \n",
       "10409        New York (CNN Business)Ford Motor Co. is pushing its return-to-office date to March over concerns over new Covid-19 concerns, the company said Monday. Assembly line workers returned to work in May...   \n",
       "10410        New York (CNN Business)Thanksgiving dinner will cost 14% more this year, according to new survey by the American Farm Bureau Federation. Dinner for a family of 10 will cost on average $53.31 — up ...   \n",
       "10415        Story highlightsHobbyists are using small drones to shoot aerial photographyWith a few hundred dollars and practice, you can make breathtaking aerial videosKeep drones and other model aircraft les...   \n",
       "\n",
       "                                                                                                                                                                                                            entities  \n",
       "headline_id                                                                                                                                                                                                           \n",
       "3            {'characters': [[[ 0 11], [ 4 11], [922 933], [926 933], [1242 1253], [1246 1253], [1644 1655], [1648 1655], [1739 1750], [1743 1750], [2802 2813], [2806 2813], [2929 2940], [2933 2940], [6377 638...  \n",
       "4            {'characters': [[[0 7]], [[10 12]], [[10 21]], [[14 21]], [[52 58], [52 69]], [[60 69]], [[137 147]], [[199 204], [968 973], [1138 1143], [1379 1384], [1707 1712], [1837 1841], [2038 2043], [2527 ...  \n",
       "5            {'characters': [[[42 44], [140 142], [6077 6079], [6077 6080], [6386 6390]], [[42 53], [140 151]], [[46 53], [144 151]], [[118 122]], [[130 137]], [[156 160], [176 178], [361 363], [658 660], [143...  \n",
       "6            {'characters': [[[0 7]], [[10 12]], [[10 21]], [[14 21], [790 797], [2255 2258]], [[23 33]], [[89 91], [611 613], [611 624], [982 984], [1059 1061], [1560 1562], [1797 1799], [1841 1843], [1948 19...  \n",
       "7            {'characters': [[[105 137], [109 137], [728 758], [732 758], [830 832]], [[123 130], [425 429], [588 596], [746 753], [2114 2122], [5820 5828], [6959 6967], [7166 7174]], [[160 166], [490 496], [5...  \n",
       "...                                                                                                                                                                                                              ...  \n",
       "10407        {'characters': [[[2 4]], [[ 2 13]], [[ 6 13], [171 180], [418 427], [1859 1868], [2382 2389], [2691 2700], [2714 2723], [2778 2785], [2860 2867], [3059 3066], [3449 3456], [3634 3642], [3696 3704]...  \n",
       "10408        {'characters': [[[2 4]], [[74 77], [233 236], [393 396], [603 606], [730 734], [800 804], [901 904], [966 969], [1133 1137], [1232 1235], [1284 1289], [1291 1294], [1392 1395], [2144 2148], [2416 ...  \n",
       "10409        {'characters': [[[0 7]], [[10 12]], [[10 21]], [[14 21]], [[23 26], [23 32], [23 35], [23 36], [874 877]], [[107 114], [414 421], [423 427]], [[253 264], [257 264]], [[130 136]], [[151 163]], [[21...  \n",
       "10410        {'characters': [[[0 7]], [[10 12], [2112 2114]], [[10 21]], [[14 21]], [[23 34], [1520 1531], [2321 2332], [2447 2458], [2889 2900]], [[104 111], [184 184], [196 196], [230 230], [358 366], [464 4...  \n",
       "10415        {'characters': [[[42 47], [161 166], [254 258], [593 597], [605 612], [605 627], [633 635], [1150 1153], [1467 1472], [1696 1700], [1726 1728], [1818 1823], [2174 2179], [2383 2387], [2439 2444], ...  \n",
       "\n",
       "[854 rows x 8 columns]"
      ]
     },
     "execution_count": 3,
     "metadata": {},
     "output_type": "execute_result"
    }
   ],
   "source": [
    "# Load dataset. \n",
    "df_business = manage_files.read_from_parquet(filename=\"cnn_news_business.parquet\") \n",
    "\n",
    "# FIlter columns\n",
    "usecols = [\"date\", \"category\", \"section\", \"headline\", \"second_headline\", \"description\", \"article_text\", \"entities\"] \n",
    "df_business = df_business[usecols] \n",
    "\n",
    "# Preview. \n",
    "df_business "
   ]
  },
  {
   "cell_type": "markdown",
   "metadata": {},
   "source": [
    "## Replace text with entities title. "
   ]
  },
  {
   "cell_type": "code",
   "execution_count": 4,
   "metadata": {},
   "outputs": [],
   "source": [
    "# # Uncomment to run this. It may take a while to complete. \n",
    "\n",
    "# df_business_ref = df_business.copy() \n",
    "\n",
    "# # Replace specific text with entities title. \n",
    "# df_business_ref[\"token_variation\"] = df_business_ref.apply(get_token_variation, axis=\"columns\") \n",
    "# df_business_ref[\"article_text_ref\"] = df_business_ref.apply(replace_references, axis=\"columns\") \n",
    "\n",
    "# # Preview. \n",
    "# df_business_ref "
   ]
  },
  {
   "cell_type": "markdown",
   "metadata": {},
   "source": [
    "### Save the processed data. "
   ]
  },
  {
   "cell_type": "code",
   "execution_count": 5,
   "metadata": {},
   "outputs": [],
   "source": [
    "# # Cache the processed dataframe. \n",
    "# manage_files.write_to_parquet(df_business_ref, filename=\"cnn_news_business_ref.parquet\", index=True) "
   ]
  },
  {
   "cell_type": "markdown",
   "metadata": {},
   "source": [
    "## Create embeddings. "
   ]
  },
  {
   "cell_type": "markdown",
   "metadata": {},
   "source": [
    "### Build and save the cnn_corpus. "
   ]
  },
  {
   "cell_type": "code",
   "execution_count": 6,
   "metadata": {},
   "outputs": [],
   "source": [
    "## Uncomment and run this part if you want to recreate the corpus. \n",
    "\n",
    "# # Pick either one to create a corpus from CNN business news. \n",
    "# # The (_ref) refers to the specific text that has been replaced \n",
    "# # by the entities title for each article. \n",
    "# df_cnn_corpus = df_business.copy() \n",
    "# df_cnn_corpus = df_business_ref.copy() \n",
    "\n",
    "# # Split the body text into separate sentences and save it as corpus. \n",
    "# df_cnn_corpus[\"article_sent\"] = df_cnn_corpus[\"article_text\"].str.split(r\"\\.\") \n",
    "# df_cnn_corpus = df_cnn_corpus.explode([\"article_sent\"]) \n",
    "# df_cnn_corpus[\"article_sent\"] = df_cnn_corpus[\"article_sent\"].str.strip() + \".\" \n",
    "\n",
    "# # Save it as a corpus. \n",
    "# with open(f\"{DIR_DATASET}/corpus_.cor\", \"w\") as f: \n",
    "# \tcnn_corpus = \"\\n\".join(df_cnn_corpus[\"article_sent\"].to_list()) \n",
    "# \tf.write(cnn_corpus) \n",
    "\n",
    "# # Preview. \n",
    "# print(cnn_corpus[:300], \" ...\") "
   ]
  },
  {
   "cell_type": "markdown",
   "metadata": {},
   "source": [
    "### Train FastText CBOW. "
   ]
  },
  {
   "cell_type": "code",
   "execution_count": 7,
   "metadata": {},
   "outputs": [],
   "source": [
    "# # Uncomment this part if you want to build the embeddings. \n",
    "\n",
    "# corpus_file = f\"{DIR_DATASET}/cnn_corpus.cor\" \n",
    "\n",
    "# # Create embeddings. \n",
    "# cnn_embeddings = FastText(\n",
    "# \tvector_size=300, window=5, min_count=20, alpha=0.025, sg=0, hs=0, sample=0.001, \n",
    "# \tnegative=10, ns_exponent=0.5, cbow_mean=1, min_n=3, max_n=6, word_ngrams=1, \n",
    "# \tshrink_windows=False, batch_words=10000, workers=3, seed=PARAM_SEED, \n",
    "# ) \n",
    "\n",
    "# # Build the vocabulary. \n",
    "# cnn_embeddings.build_vocab(corpus_file=corpus_file) \n",
    "\n",
    "# # The training takes roughly 8 minutes with these parameters. \n",
    "# cnn_embeddings.train(\n",
    "# \tcorpus_file=corpus_file, epochs=100, \n",
    "# \ttotal_examples=model.corpus_count, total_words=model.corpus_total_words, \n",
    "# ) "
   ]
  },
  {
   "cell_type": "markdown",
   "metadata": {},
   "source": [
    "### Save the embeddings. "
   ]
  },
  {
   "cell_type": "code",
   "execution_count": 8,
   "metadata": {},
   "outputs": [],
   "source": [
    "# # Save the embeddings. \n",
    "# cnn_embeddings.save(f\"{DIR_MLTOPIC}/cnn_embeddings.model\") "
   ]
  },
  {
   "cell_type": "markdown",
   "metadata": {},
   "source": [
    "### Load pre-built embeddings. "
   ]
  },
  {
   "cell_type": "code",
   "execution_count": 9,
   "metadata": {},
   "outputs": [
    {
     "data": {
      "text/plain": [
       "<gensim.models.fasttext.FastText at 0x7ff687a34f40>"
      ]
     },
     "execution_count": 9,
     "metadata": {},
     "output_type": "execute_result"
    }
   ],
   "source": [
    "cnn_embeddings = FastText.load(f\"{DIR_MLTOPIC}/cnn_embeddings.model\") \n",
    "\n",
    "# Preview. \n",
    "cnn_embeddings"
   ]
  },
  {
   "cell_type": "markdown",
   "metadata": {},
   "source": [
    "### Evaluation. "
   ]
  },
  {
   "cell_type": "code",
   "execution_count": 10,
   "metadata": {},
   "outputs": [
    {
     "data": {
      "text/plain": [
       "([('pandemic.', 0.8037382364273071),\n",
       "  ('pandemic,', 0.7571540474891663),\n",
       "  ('pre-pandemic', 0.6355668902397156),\n",
       "  ('crisis.', 0.2911927103996277),\n",
       "  ('problems', 0.2882746458053589),\n",
       "  ('crisis', 0.2880103886127472),\n",
       "  ('problem', 0.2813224494457245),\n",
       "  ('Great', 0.2773291766643524),\n",
       "  ('outbreak', 0.2510329782962799),\n",
       "  ('rising', 0.24843332171440125)],\n",
       " [('Covid', 0.712553083896637),\n",
       "  ('cover', 0.4673186242580414),\n",
       "  ('provide', 0.40242406725883484),\n",
       "  ('providers', 0.3854585587978363),\n",
       "  ('providing', 0.3788436949253082),\n",
       "  ('provided', 0.365965873003006),\n",
       "  ('covering', 0.3486703634262085),\n",
       "  ('provides', 0.346785306930542),\n",
       "  ('covered', 0.3427681028842926),\n",
       "  ('Covid-19', 0.3344852924346924)])"
      ]
     },
     "execution_count": 10,
     "metadata": {},
     "output_type": "execute_result"
    }
   ],
   "source": [
    "cnn_embeddings.wv.most_similar(\"pandemic\"), cnn_embeddings.wv.most_similar(\"covid\") "
   ]
  },
  {
   "cell_type": "code",
   "execution_count": 11,
   "metadata": {},
   "outputs": [
    {
     "data": {
      "text/plain": [
       "(0.04626437,\n",
       " [('pre-pandemic', 1.7302595376968384),\n",
       "  ('pandemic.', 1.7153069972991943),\n",
       "  ('pandemic,', 1.6258063316345215),\n",
       "  ('February.', 1.342038869857788),\n",
       "  ('half', 1.2852768898010254),\n",
       "  ('March,', 1.2811317443847656),\n",
       "  ('1.', 1.270282506942749),\n",
       "  ('baseball', 1.2701747417449951),\n",
       "  ('Back', 1.2684721946716309),\n",
       "  ('13', 1.2661775350570679)])"
      ]
     },
     "execution_count": 11,
     "metadata": {},
     "output_type": "execute_result"
    }
   ],
   "source": [
    "cnn_embeddings.wv.similarity(\"pandemic\", \"covid\"), cnn_embeddings.wv.most_similar_cosmul(\"pandemic\", \"covid\") "
   ]
  },
  {
   "cell_type": "code",
   "execution_count": 12,
   "metadata": {},
   "outputs": [
    {
     "data": {
      "text/plain": [
       "(0.19502483,\n",
       " [('economics', 1.563862919807434),\n",
       "  ('Economic', 1.550460696220398),\n",
       "  ('economist', 1.4416495561599731),\n",
       "  ('economists', 1.3728910684585571),\n",
       "  ('MoreIn', 1.3392984867095947),\n",
       "  ('Republican', 1.3369587659835815),\n",
       "  ('economies', 1.3204340934753418),\n",
       "  ('economy.', 1.3162963390350342),\n",
       "  ('host', 1.2889987230300903),\n",
       "  ('economy', 1.2784146070480347)])"
      ]
     },
     "execution_count": 12,
     "metadata": {},
     "output_type": "execute_result"
    }
   ],
   "source": [
    "cnn_embeddings.wv.similarity(\"economic\", \"interest rate\"), cnn_embeddings.wv.most_similar_cosmul(\"economic\", \"interest rate\") "
   ]
  },
  {
   "cell_type": "code",
   "execution_count": 13,
   "metadata": {},
   "outputs": [
    {
     "data": {
      "text/plain": [
       "(0.21848081,\n",
       " [('crude', 0.6069318056106567),\n",
       "  ('natural', 0.5777915120124817),\n",
       "  ('oil', 0.3565499484539032),\n",
       "  ('nature', 0.343952476978302),\n",
       "  ('oil.', 0.28038379549980164),\n",
       "  ('gas.', 0.2508723735809326),\n",
       "  ('Oil', 0.23920536041259766),\n",
       "  ('exports', 0.23526595532894135),\n",
       "  ('shares', 0.22840961813926697),\n",
       "  ('producers', 0.22448354959487915)])"
      ]
     },
     "execution_count": 13,
     "metadata": {},
     "output_type": "execute_result"
    }
   ],
   "source": [
    "cnn_embeddings.wv.similarity(\"crude oil\", \"natural gas\"), cnn_embeddings.wv.most_similar([\"crude oil\", \"natural gas\"], negative=[\"energy\"]) "
   ]
  },
  {
   "cell_type": "code",
   "execution_count": null,
   "metadata": {},
   "outputs": [],
   "source": []
  }
 ],
 "metadata": {
  "interpreter": {
   "hash": "f6689f0305672d2dc550a866e93f5c36574ffb0966414cdc43ca72b48c9e3b0c"
  },
  "kernelspec": {
   "display_name": "Python 3.8.5 ('MADS-M2-financial-news-personalisation-BuIFJJrO')",
   "language": "python",
   "name": "python3"
  },
  "language_info": {
   "codemirror_mode": {
    "name": "ipython",
    "version": 3
   },
   "file_extension": ".py",
   "mimetype": "text/x-python",
   "name": "python",
   "nbconvert_exporter": "python",
   "pygments_lexer": "ipython3",
   "version": "3.8.5"
  },
  "orig_nbformat": 4
 },
 "nbformat": 4,
 "nbformat_minor": 2
}
