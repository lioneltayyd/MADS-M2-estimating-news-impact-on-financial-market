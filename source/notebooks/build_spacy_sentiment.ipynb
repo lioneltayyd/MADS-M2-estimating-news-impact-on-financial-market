{
 "cells": [
  {
   "cell_type": "markdown",
   "metadata": {},
   "source": [
    "# Build Sentiment Model Via SpaCy. "
   ]
  },
  {
   "cell_type": "code",
   "execution_count": 1,
   "metadata": {},
   "outputs": [
    {
     "name": "stdout",
     "output_type": "stream",
     "text": [
      "/Users/lioneltay/Dropbox/Courses/michigan_mads/SIADS_694_695_milestone_2_Eric_Gilbert/submission/MADS-M2-estimating-news-impact-on-financial-market\n"
     ]
    }
   ],
   "source": [
    "# Python module. \n",
    "import re, os \n",
    "import pandas as pd\n",
    "import spacy \n",
    "from sklearn.model_selection import train_test_split \n",
    "\n",
    "# Change the current directory from (./notebook) to root directory. \n",
    "if not re.match(r\".+/MADS-M2-estimating-news-impact-on-financial-market$\", os.getcwd()): \n",
    "\tos.chdir(\"../..\") \n",
    "\n",
    "# For clearing safe warnings. Not important. \n",
    "from IPython.display import clear_output \n",
    "\n",
    "# Custom modules. \n",
    "from source.modules.manage_files import ManageFiles\n",
    "from source.modules.processor_spacy import to_spacy_document \n",
    "\n",
    "# Custom configs. \n",
    "from source.config_py.config import DIR_MLSPACY, PARAM_SEED\n",
    "\n",
    "# Preview. \n",
    "print(os.getcwd()) "
   ]
  },
  {
   "cell_type": "markdown",
   "metadata": {},
   "source": [
    "## Configurations (general). "
   ]
  },
  {
   "cell_type": "code",
   "execution_count": 2,
   "metadata": {},
   "outputs": [],
   "source": [
    "# Pandas DF config. \n",
    "pd.set_option(\"display.max_rows\", 50, \"display.max_columns\", 50, \"display.max_colwidth\", 200) \n",
    "\n",
    "# SpaCy configuration. \n",
    "nlp = spacy.load(\"en_core_web_sm\") \n",
    "\n",
    "# File management setup. \n",
    "manage_files = ManageFiles() \n",
    "\n",
    "# For clearing the output. Not important. \n",
    "clear_output()"
   ]
  },
  {
   "cell_type": "markdown",
   "metadata": {},
   "source": [
    "## Load sentiment dataset. "
   ]
  },
  {
   "cell_type": "code",
   "execution_count": 3,
   "metadata": {},
   "outputs": [
    {
     "name": "stdout",
     "output_type": "stream",
     "text": [
      "Read from (sentiment_news.csv)\n"
     ]
    },
    {
     "data": {
      "text/html": [
       "<div>\n",
       "<style scoped>\n",
       "    .dataframe tbody tr th:only-of-type {\n",
       "        vertical-align: middle;\n",
       "    }\n",
       "\n",
       "    .dataframe tbody tr th {\n",
       "        vertical-align: top;\n",
       "    }\n",
       "\n",
       "    .dataframe thead th {\n",
       "        text-align: right;\n",
       "    }\n",
       "</style>\n",
       "<table border=\"1\" class=\"dataframe\">\n",
       "  <thead>\n",
       "    <tr style=\"text-align: right;\">\n",
       "      <th></th>\n",
       "      <th>headline</th>\n",
       "      <th>sentiment</th>\n",
       "    </tr>\n",
       "  </thead>\n",
       "  <tbody>\n",
       "    <tr>\n",
       "      <th>0</th>\n",
       "      <td>According to Gran , the company has no plans to move all production to Russia , although that is where the company is growing .</td>\n",
       "      <td>neutral</td>\n",
       "    </tr>\n",
       "    <tr>\n",
       "      <th>1</th>\n",
       "      <td>Technopolis plans to develop in stages an area of no less than 100,000 square meters in order to host companies working in computer technologies and telecommunications , the statement said .</td>\n",
       "      <td>neutral</td>\n",
       "    </tr>\n",
       "    <tr>\n",
       "      <th>2</th>\n",
       "      <td>The international electronic industry company Elcoteq has laid off tens of employees from its Tallinn facility ; contrary to earlier layoffs the company contracted the ranks of its office workers ...</td>\n",
       "      <td>negative</td>\n",
       "    </tr>\n",
       "    <tr>\n",
       "      <th>3</th>\n",
       "      <td>With the new production plant the company would increase its capacity to meet the expected increase in demand and would improve the use of raw materials and therefore increase the production profi...</td>\n",
       "      <td>positive</td>\n",
       "    </tr>\n",
       "    <tr>\n",
       "      <th>4</th>\n",
       "      <td>According to the company 's updated strategy for the years 2009-2012 , Basware targets a long-term net sales growth in the range of 20 % -40 % with an operating profit margin of 10 % -20 % of net ...</td>\n",
       "      <td>positive</td>\n",
       "    </tr>\n",
       "    <tr>\n",
       "      <th>...</th>\n",
       "      <td>...</td>\n",
       "      <td>...</td>\n",
       "    </tr>\n",
       "    <tr>\n",
       "      <th>4841</th>\n",
       "      <td>LONDON MarketWatch -- Share prices ended lower in London Monday as a rebound in bank stocks failed to offset broader weakness for the FTSE 100 .</td>\n",
       "      <td>negative</td>\n",
       "    </tr>\n",
       "    <tr>\n",
       "      <th>4842</th>\n",
       "      <td>Rinkuskiai 's beer sales fell by 6.5 per cent to 4.16 million litres , while Kauno Alus ' beer sales jumped by 6.9 per cent to 2.48 million litres .</td>\n",
       "      <td>neutral</td>\n",
       "    </tr>\n",
       "    <tr>\n",
       "      <th>4843</th>\n",
       "      <td>Operating profit fell to EUR 35.4 mn from EUR 68.8 mn in 2007 , including vessel sales gain of EUR 12.3 mn .</td>\n",
       "      <td>negative</td>\n",
       "    </tr>\n",
       "    <tr>\n",
       "      <th>4844</th>\n",
       "      <td>Net sales of the Paper segment decreased to EUR 221.6 mn in the second quarter of 2009 from EUR 241.1 mn in the second quarter of 2008 , while operating profit excluding non-recurring items rose t...</td>\n",
       "      <td>negative</td>\n",
       "    </tr>\n",
       "    <tr>\n",
       "      <th>4845</th>\n",
       "      <td>Sales in Finland decreased by 10.5 % in January , while sales outside Finland dropped by 17 % .</td>\n",
       "      <td>negative</td>\n",
       "    </tr>\n",
       "  </tbody>\n",
       "</table>\n",
       "<p>4846 rows × 2 columns</p>\n",
       "</div>"
      ],
      "text/plain": [
       "                                                                                                                                                                                                     headline  \\\n",
       "0                                                                             According to Gran , the company has no plans to move all production to Russia , although that is where the company is growing .   \n",
       "1              Technopolis plans to develop in stages an area of no less than 100,000 square meters in order to host companies working in computer technologies and telecommunications , the statement said .   \n",
       "2     The international electronic industry company Elcoteq has laid off tens of employees from its Tallinn facility ; contrary to earlier layoffs the company contracted the ranks of its office workers ...   \n",
       "3     With the new production plant the company would increase its capacity to meet the expected increase in demand and would improve the use of raw materials and therefore increase the production profi...   \n",
       "4     According to the company 's updated strategy for the years 2009-2012 , Basware targets a long-term net sales growth in the range of 20 % -40 % with an operating profit margin of 10 % -20 % of net ...   \n",
       "...                                                                                                                                                                                                       ...   \n",
       "4841                                                         LONDON MarketWatch -- Share prices ended lower in London Monday as a rebound in bank stocks failed to offset broader weakness for the FTSE 100 .   \n",
       "4842                                                     Rinkuskiai 's beer sales fell by 6.5 per cent to 4.16 million litres , while Kauno Alus ' beer sales jumped by 6.9 per cent to 2.48 million litres .   \n",
       "4843                                                                                             Operating profit fell to EUR 35.4 mn from EUR 68.8 mn in 2007 , including vessel sales gain of EUR 12.3 mn .   \n",
       "4844  Net sales of the Paper segment decreased to EUR 221.6 mn in the second quarter of 2009 from EUR 241.1 mn in the second quarter of 2008 , while operating profit excluding non-recurring items rose t...   \n",
       "4845                                                                                                          Sales in Finland decreased by 10.5 % in January , while sales outside Finland dropped by 17 % .   \n",
       "\n",
       "     sentiment  \n",
       "0      neutral  \n",
       "1      neutral  \n",
       "2     negative  \n",
       "3     positive  \n",
       "4     positive  \n",
       "...        ...  \n",
       "4841  negative  \n",
       "4842   neutral  \n",
       "4843  negative  \n",
       "4844  negative  \n",
       "4845  negative  \n",
       "\n",
       "[4846 rows x 2 columns]"
      ]
     },
     "execution_count": 3,
     "metadata": {},
     "output_type": "execute_result"
    }
   ],
   "source": [
    "# Load dataset. \n",
    "# Need to set (encoding=\"latin-1\"). Otherwise will raise error due to special characters. \n",
    "# Fine to ignore those characters. Will not affect the analysis later. \n",
    "colnames = [\"sentiment\", \"headline\"] \n",
    "df_sentiment = manage_files.read_from_csv(filename=\"sentiment_news.csv\", names=colnames, encoding=\"latin-1\") \n",
    "\n",
    "# Rearrange the column order. \n",
    "df_sentiment = df_sentiment[[\"headline\", \"sentiment\"]] \n",
    "\n",
    "# Preview. \n",
    "df_sentiment"
   ]
  },
  {
   "cell_type": "markdown",
   "metadata": {},
   "source": [
    "## Reformat the data structure according to SpaCy requirement. "
   ]
  },
  {
   "cell_type": "markdown",
   "metadata": {},
   "source": [
    "### Split train test. "
   ]
  },
  {
   "cell_type": "code",
   "execution_count": 4,
   "metadata": {},
   "outputs": [
    {
     "name": "stdout",
     "output_type": "stream",
     "text": [
      "(3246, 1) (1600, 1) (3246,) (1600,)\n"
     ]
    }
   ],
   "source": [
    "X, y = df_sentiment[[\"headline\"]], df_sentiment[\"sentiment\"] \n",
    "X_train, X_test, y_train, y_test = train_test_split(X, y, test_size=0.33, random_state=PARAM_SEED, shuffle=True, stratify=y) \n",
    "\n",
    "print(X_train.shape, X_test.shape, y_train.shape, y_test.shape)"
   ]
  },
  {
   "cell_type": "code",
   "execution_count": 5,
   "metadata": {},
   "outputs": [
    {
     "data": {
      "text/plain": [
       "([('No blind-spots coming from 1 vantage point allows investigators to see the whole story in high resolution with no unbroken video .', 'neutral'),\n",
       "  ('International sales rose by 59.8 % to EUR 1,244.4 mn .', 'positive')],\n",
       " [(\"Markets had been expecting a poor performance , and the company 's stock was up 6 percent at  x20ac 23.89 US$ 33.84 in early afternoon trading in Helsinki .\", 'positive'),\n",
       "  (\"The core of Solidium 's investment strategy is proper , value enhancing asset management of the current holdings .\", 'positive')])"
      ]
     },
     "execution_count": 5,
     "metadata": {},
     "output_type": "execute_result"
    }
   ],
   "source": [
    "# Convert to list of tuples for TRAIN and TEST set \n",
    "# to convert into SpaCy format later. \n",
    "trainset = pd.concat([X_train, y_train], axis=1) \n",
    "trainset = list(trainset.to_records(index=False)) \n",
    "testset = pd.concat([X_test, y_test], axis=1) \n",
    "testset = list(testset.to_records(index=False)) \n",
    "\n",
    "# Preview. \n",
    "trainset[:2], testset[:2] "
   ]
  },
  {
   "cell_type": "markdown",
   "metadata": {},
   "source": [
    "### Reformat the data and save train test in SpaCy format. "
   ]
  },
  {
   "cell_type": "code",
   "execution_count": 6,
   "metadata": {},
   "outputs": [],
   "source": [
    "# # Uncomment this part to re-save the dataset. \n",
    "# # Save the dataset in SpaCy format. \n",
    "# manage_files.save_to_spacy(data=trainset, filename=\"sentiment_trainset.spacy\", nlp=nlp) \n",
    "# manage_files.save_to_spacy(data=testset, filename=\"sentiment_testset.spacy\", nlp=nlp) "
   ]
  },
  {
   "cell_type": "markdown",
   "metadata": {},
   "source": [
    "## Train the SpaCy model & Model evaluation. "
   ]
  },
  {
   "cell_type": "code",
   "execution_count": 7,
   "metadata": {
    "vscode": {
     "languageId": "shellscript"
    }
   },
   "outputs": [],
   "source": [
    "# # Uncomment this part to re-train the model. \n",
    "# # May take less than 7 minutes for training. \n",
    "# !python -m spacy train source/config_spacy/config_tp.cfg \\\n",
    "# \t--verbose  \\\n",
    "# \t--output model/spacy_sentiment "
   ]
  },
  {
   "cell_type": "markdown",
   "metadata": {},
   "source": [
    "## Predict examples. "
   ]
  },
  {
   "cell_type": "code",
   "execution_count": 8,
   "metadata": {},
   "outputs": [
    {
     "name": "stderr",
     "output_type": "stream",
     "text": [
      "/Users/lioneltay/.local/share/virtualenvs/MADS-M2-estimating-news-impact-on-financia-G1YPmgZm/lib/python3.8/site-packages/spacy/util.py:837: UserWarning: [W095] Model 'en_pipeline' (0.0.0) was trained with spaCy v3.2 and may not be 100% compatible with the current version (3.3.0). If you see errors or degraded performance, download a newer compatible model or retrain your custom model with the current spaCy version. For more details and available updates, run: python -m spacy validate\n",
      "  warnings.warn(warn_msg)\n"
     ]
    },
    {
     "name": "stdout",
     "output_type": "stream",
     "text": [
      "0 | Sentiment:  neutral | {'positive': 0.14875653386116028, 'negative': 0.021231312304735184, 'neutral': 0.8300121426582336}\n",
      "1 | Sentiment:  neutral | {'positive': 0.001358339563012123, 'negative': 0.0002256576990475878, 'neutral': 0.9984159469604492}\n",
      "2 | Sentiment:  positive | {'positive': 0.9396674036979675, 'negative': 0.021503876894712448, 'neutral': 0.038828689604997635}\n",
      "3 | Sentiment:  neutral | {'positive': 0.3172284662723541, 'negative': 0.013310641050338745, 'neutral': 0.6694609522819519}\n",
      "4 | Sentiment:  neutral | {'positive': 0.04883705824613571, 'negative': 0.003382651833817363, 'neutral': 0.9477802515029907}\n",
      "5 | Sentiment:  negative | {'positive': 0.00034739868715405464, 'negative': 0.9996166229248047, 'neutral': 3.601448770496063e-05}\n"
     ]
    }
   ],
   "source": [
    "headlines = [\n",
    "\t'''\n",
    "\tMany participants noted that one or more 50 basis point increases in the \n",
    "\ttarget range could be appropriate at future meetings, particularly if \n",
    "\tinflation pressures remained elevated or intensified.\n",
    "\t''', \n",
    "\t'''\n",
    "\tThe yield curve inversion is spooking the markets, although its a recession \n",
    "\tpredictor, history shows it may not be time to sell.\n",
    "\t''', \n",
    "\t'''\n",
    "\tYields on the benchmark 10-year OFZ ruble treasury bonds spiked to 19.7% \n",
    "\tin early pre-market trade, an all-time high, but had settled to around 14% \n",
    "\tby the end of the trading session.\n",
    "\t''', \n",
    "\t'''\n",
    "\tU.S. two-year Treasury yields climbed to their highest level since early 2019 \n",
    "\ton Monday, continuing to push higher on expectations that the Federal Reserve \n",
    "\twill deliver bigger rate hikes in the months ahead to tame inflation.\n",
    "\t''', \n",
    "\t'''\n",
    "\tApple earnings: Huge iPhone 12 sales beat analyst expectations.\n",
    "\t''', \n",
    "\t'''\n",
    "\tAustralia largest airline temporarily lays off 2,500 employees. \n",
    "\t''', \n",
    "]\n",
    "\n",
    "# Loading the best model from output_updated folder\n",
    "nlp = spacy.load(f\"{DIR_MLSPACY}/model-best\") \n",
    "\n",
    "# Make prediction. \n",
    "for i, headline in enumerate(headlines): \n",
    "\tspcy_doc = nlp(headline) \n",
    "\tprint(i, \"| Sentiment: \", max(spcy_doc.cats, key=lambda x: spcy_doc.cats[x]), \"|\", spcy_doc.cats) "
   ]
  },
  {
   "cell_type": "code",
   "execution_count": null,
   "metadata": {},
   "outputs": [],
   "source": []
  }
 ],
 "metadata": {
  "interpreter": {
   "hash": "f6689f0305672d2dc550a866e93f5c36574ffb0966414cdc43ca72b48c9e3b0c"
  },
  "kernelspec": {
   "display_name": "Python 3.8.5 ('MADS-M2-financial-news-personalisation-BuIFJJrO')",
   "language": "python",
   "name": "python3"
  },
  "language_info": {
   "codemirror_mode": {
    "name": "ipython",
    "version": 3
   },
   "file_extension": ".py",
   "mimetype": "text/x-python",
   "name": "python",
   "nbconvert_exporter": "python",
   "pygments_lexer": "ipython3",
   "version": "3.8.5"
  },
  "orig_nbformat": 4
 },
 "nbformat": 4,
 "nbformat_minor": 2
}
